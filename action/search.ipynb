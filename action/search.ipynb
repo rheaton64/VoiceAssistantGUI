{
 "cells": [
  {
   "cell_type": "code",
   "execution_count": 7,
   "metadata": {},
   "outputs": [
    {
     "name": "stdout",
     "output_type": "stream",
     "text": [
      "{\"searchParameters\":{\"q\":\"latest news headlines\",\"type\":\"search\"},\"organic\":[{\"title\":\"CNN: Breaking News, Latest News and Videos\",\"link\":\"https://www.cnn.com/\",\"snippet\":\"View the latest news and breaking news today for U.S., world, weather, entertainment, politics and health at CNN.com.\",\"date\":\"4 hours ago\",\"position\":1},{\"title\":\"Fox News - Breaking News Updates | Latest News Headlines | Photos & News Videos\",\"link\":\"https://www.foxnews.com/\",\"snippet\":\"Breaking News, Latest News and Current News from FOXNews.com. Breaking news and video. Latest Current News: U.S., World, Entertainment, ...\",\"date\":\"9 hours ago\",\"sitelinks\":[{\"title\":\"U.S.\",\"link\":\"https://www.foxnews.com/us\"},{\"title\":\"Politics\",\"link\":\"https://www.foxnews.com/politics\"},{\"title\":\"World\",\"link\":\"https://www.foxnews.com/world\"},{\"title\":\"Entertainment\",\"link\":\"https://www.foxnews.com/entertainment\"}],\"position\":2},{\"title\":\"NBC News - Breaking News & Top Stories - Latest World, US & Local News | NBC News\",\"link\":\"https://www.nbcnews.com/\",\"snippet\":\"Go to NBCNews.com for breaking news, videos, and the latest top stories in world news, business, politics, health and pop culture.\",\"date\":\"3 hours ago\",\"position\":3},{\"title\":\"ABC News - Breaking News, Latest News and Videos\",\"link\":\"https://abcnews.go.com/\",\"snippet\":\"Your trusted source for breaking news, analysis, exclusive interviews, headlines, and videos at ABCNews.com.\",\"date\":\"3 hours ago\",\"position\":4},{\"title\":\"Associated Press News: Breaking News | Latest News Today\",\"link\":\"https://apnews.com/\",\"snippet\":\"Stay informed and read the latest news today from The Associated Press, the definitive source for independent journalism from every corner of the globe.\",\"date\":\"31 minutes ago\",\"position\":5},{\"title\":\"U.S. and World News Headlines : NPR\",\"link\":\"https://www.npr.org/sections/news/\",\"snippet\":\"Coverage of breaking stories, national and world news, politics, business, science, technology, and extended coverage of major national and world events.\",\"date\":\"14 hours ago\",\"position\":6},{\"title\":\"USA TODAY - Breaking News and Latest News Today\",\"link\":\"https://www.usatoday.com/\",\"snippet\":\"USA TODAY delivers current national and local news, sports, entertainment, finance, technology, and more through award-winning journalism, photos, ...\",\"date\":\"5 hours ago\",\"position\":7},{\"title\":\"The Washington Post - Breaking news and latest headlines, U.S. news, world news, and video - The Washington Post\",\"link\":\"https://www.washingtonpost.com/\",\"snippet\":\"Breaking news, live coverage, investigations, analysis, video, photos and opinions from The Washington Post. Subscribe for the latest on U.S. and ...\",\"date\":\"4 hours ago\",\"position\":8},{\"title\":\"CBS News - Breaking news, 24/7 live streaming news & top stories\",\"link\":\"https://www.cbsnews.com/\",\"snippet\":\"Watch CBS News live and get the latest, breaking news headlines of the day for national news and world news today.\",\"date\":\"3 hours ago\",\"position\":9},{\"title\":\"MSNBC News - Breaking News and News Today | Latest News\",\"link\":\"https://www.msnbc.com/\",\"snippet\":\"MSNBC breaking news and the latest news for today. Get daily news from local news reporters and world news updates with live audio & video from our team.\",\"date\":\"23 hours ago\",\"position\":10}],\"relatedSearches\":[{\"query\":\"Trump News today\"},{\"query\":\"Current events this week\"},{\"query\":\"NBC News\"},{\"query\":\"Fox News today\"},{\"query\":\"MSNBC News\"},{\"query\":\"Cnn news\"},{\"query\":\"CBS News\"},{\"query\":\"Google News\"}]}\n"
     ]
    }
   ],
   "source": [
    "import requests\n",
    "import json\n",
    "import os\n",
    "\n",
    "url = \"https://google.serper.dev/search\"\n",
    "\n",
    "payload = json.dumps({\n",
    "  \"q\": \"latest news headlines\"\n",
    "})\n",
    "headers = {\n",
    "  'X-API-KEY': os.getenv('SERPER_API_KEY'),\n",
    "  'Content-Type': 'application/json'\n",
    "}\n",
    "\n",
    "response = requests.request(\"POST\", url, headers=headers, data=payload)\n",
    "\n",
    "print(response.text)"
   ]
  },
  {
   "cell_type": "code",
   "execution_count": 6,
   "metadata": {},
   "outputs": [
    {
     "name": "stdout",
     "output_type": "stream",
     "text": [
      "[{'title': 'Apple', 'link': 'https://www.apple.com/', 'snippet': 'Introducing Apple Vision Pro and the era of spatial computing. The new 15‑inch MacBook Air with M2, Mac Studio with M2 Max and M2 Ultra, and Mac Pro with M2 ...', 'sitelinks': [{'title': 'Support', 'link': 'https://support.apple.com/'}, {'title': 'Store', 'link': 'https://www.apple.com/store'}, {'title': 'Watch', 'link': 'https://www.apple.com/watch/'}, {'title': 'iPhone', 'link': 'https://www.apple.com/iphone/'}, {'title': 'Mac', 'link': 'https://www.apple.com/mac/'}, {'title': 'iPad', 'link': 'https://www.apple.com/ipad/'}], 'position': 1}, {'title': 'Apple Inc. - Wikipedia', 'link': 'https://en.wikipedia.org/wiki/Apple_Inc.', 'snippet': \"Apple Inc. is an American multinational technology company headquartered in Cupertino, California. Apple is the world's largest technology company by revenue, ...\", 'attributes': {'Founders': 'Steve Jobs; Steve Wozniak; Ronald Wayne', 'Products': 'AirPods; Apple Watch; iPad; iPhone; Mac; Full list'}, 'sitelinks': [{'title': 'History', 'link': 'https://en.wikipedia.org/wiki/History_of_Apple_Inc.'}, {'title': 'Timeline of Apple Inc. products', 'link': 'https://en.wikipedia.org/wiki/Timeline_of_Apple_Inc._products'}, {'title': 'Litigation involving Apple Inc.', 'link': 'https://en.wikipedia.org/wiki/Litigation_involving_Apple_Inc.'}, {'title': 'Apple Store', 'link': 'https://en.wikipedia.org/wiki/Apple_Store'}], 'imageUrl': 'https://encrypted-tbn0.gstatic.com/images?q=tbn:ANd9GcRvmB5fT1LjqpZx02UM7IJq0Buoqt0DZs_y0dqwxwSWyP4PIN9FaxuTea0&s', 'position': 2}, {'title': 'Apple Inc. | History, Products, Headquarters, & Facts | Britannica', 'link': 'https://www.britannica.com/topic/Apple-Inc', 'snippet': 'Apple Inc., formerly Apple Computer, Inc., American manufacturer of personal computers, smartphones, tablet computers, computer peripherals, and computer ...', 'attributes': {'Related People': 'Steve Jobs Steve Wozniak Jony Ive Tim Cook Angela Ahrendts', 'Date': '1976 - present'}, 'imageUrl': 'https://encrypted-tbn0.gstatic.com/images?q=tbn:ANd9GcS3liELlhrMz3Wpsox29U8jJ3L8qETR0hBWHXbFnwjwQc34zwZvFELst2E&s', 'position': 3}, {'title': 'AAPL: Apple Inc Stock Price Quote - NASDAQ GS - Bloomberg.com', 'link': 'https://www.bloomberg.com/quote/AAPL:US', 'snippet': 'Stock analysis for Apple Inc (AAPL:NASDAQ GS) including stock price, stock chart, company news, key statistics, fundamentals and company profile.', 'attributes': {'Market Open': 'As of 03:56 PM EDT 06/07/2023 EDT', 'Market Cap': '2.819T', 'Net Income': '24,160.00', 'Volume': '48,802,389'}, 'position': 4}, {'title': 'AAPL | Apple Inc. Stock Price & News - WSJ', 'link': 'https://www.wsj.com/market-data/quotes/AAPL', 'snippet': 'Apple, Inc. engages in the design, manufacture, and sale of smartphones, personal computers, tablets, wearables and accessories, and other varieties of ...', 'position': 5}]\n"
     ]
    }
   ],
   "source": [
    "print(response.json()['organic'])"
   ]
  }
 ],
 "metadata": {
  "kernelspec": {
   "display_name": ".venv",
   "language": "python",
   "name": "python3"
  },
  "language_info": {
   "codemirror_mode": {
    "name": "ipython",
    "version": 3
   },
   "file_extension": ".py",
   "mimetype": "text/x-python",
   "name": "python",
   "nbconvert_exporter": "python",
   "pygments_lexer": "ipython3",
   "version": "3.11.3"
  },
  "orig_nbformat": 4
 },
 "nbformat": 4,
 "nbformat_minor": 2
}
