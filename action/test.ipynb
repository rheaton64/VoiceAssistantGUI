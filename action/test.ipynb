{
 "cells": [
  {
   "cell_type": "code",
   "execution_count": 1,
   "metadata": {},
   "outputs": [],
   "source": [
    "from langchain import LLMChain\n",
    "from langchain.schema import SystemMessage\n",
    "from langchain.prompts import SystemMessagePromptTemplate, HumanMessagePromptTemplate, ChatPromptTemplate, PromptTemplate\n",
    "from langchain.tools.python.tool import PythonREPLTool\n",
    "from langchain.chat_models import ChatOpenAI\n",
    "from langchain.callbacks.base import BaseCallbackHandler\n",
    "from langchain.callbacks.streaming_stdout import StreamingStdOutCallbackHandler\n",
    "from langchain.output_parsers import PydanticOutputParser\n",
    "from pydantic import BaseModel, Field, validator"
   ]
  },
  {
   "cell_type": "code",
   "execution_count": 7,
   "metadata": {},
   "outputs": [],
   "source": [
    "class ActionResponse(BaseModel):\n",
    "    explain: str = Field(description=\"What is the user asking you to do? What outputs are the user expecting? What inputs are the user specifying, and how can we infer potential general function parameters from them? Are there any ambiguities in the task? What are they? How can they be accounted for?\")\n",
    "    plan: list[str] = Field(description=\"How to complete the task step by step.\")\n",
    "    libraries: list[str] = Field(description=\"What non-standard libraries, if any, need to be installed to complete the task?\")\n",
    "    code: str = Field(description=\"The Python code to complete the task. Should consist of any helper functions or variables, the new generic function, and the function call to run it.\")\n",
    "    notes: str = Field(description=\"Can this code run without any edits from the user? If not, why? Also, any additional notes regarding the code or it's execution, not including the external libraries mentioned previously.\")\n",
    "\n",
    "output_parser = PydanticOutputParser(pydantic_object=ActionResponse)\n"
   ]
  },
  {
   "cell_type": "code",
   "execution_count": 12,
   "metadata": {},
   "outputs": [],
   "source": [
    "SYSTEM_TEMPLATE=\"\"\"You are a helpful assistant that writes a Python function to complete any task specified by me.\n",
    "The function should always be able to run as-is, without any modifications for the user.\n",
    "The environment where the function will be run is a REPL on my local machine, and it has access to the Internet and the Python standard library. To install any external libraries, you must specify them in your response.\n",
    "The function that you write will be re-used in the future for building more complex functions. Therefore, you should make it generic and re-usable.\n",
    "You should also provide the necessary code to execute the task, and use the generic function with the desired inputs.\n",
    "\n",
    "At each round of conversation, I will provide you with \n",
    "Task: the task that you must complete by writing a Python function.\n",
    "\n",
    "The only output that I can see is what the function prints out. I cannot see any other output, or what the function returns.\n",
    "\n",
    "When given a task, you respond as described in your format instructions\n",
    "\n",
    "{format_instructions}\n",
    "\"\"\"\n",
    "\n",
    "system_prompt = PromptTemplate(\n",
    "    template=SYSTEM_TEMPLATE,\n",
    "    input_variables=[],\n",
    "    partial_variables={\"format_instructions\": output_parser.get_format_instructions()}\n",
    ")\n",
    "\n",
    "system_message = SystemMessagePromptTemplate(prompt=system_prompt)"
   ]
  },
  {
   "cell_type": "code",
   "execution_count": 4,
   "metadata": {},
   "outputs": [],
   "source": [
    "human_message = HumanMessagePromptTemplate.from_template(\"\"\"Task: {task}\"\"\")"
   ]
  },
  {
   "cell_type": "code",
   "execution_count": 13,
   "metadata": {},
   "outputs": [],
   "source": [
    "class ActionExecutor:\n",
    "    def __init__(self, callback: BaseCallbackHandler = None):\n",
    "        self.chain = LLMChain(\n",
    "            prompt = ChatPromptTemplate.from_messages([system_message, human_message]),\n",
    "            llm = ChatOpenAI(model_name='gpt-4', temperature=0, streaming=True, callbacks=[StreamingStdOutCallbackHandler()]),\n",
    "            verbose=True\n",
    "        )\n",
    "        self.repl = PythonREPLTool()\n",
    "\n",
    "    def send(self, message):\n",
    "        res = self.chain.run(message)\n",
    "        res = output_parser.parse(res)\n",
    "        print(self.repl.run(res.code))\n",
    "\n"
   ]
  },
  {
   "cell_type": "code",
   "execution_count": 14,
   "metadata": {},
   "outputs": [
    {
     "name": "stdout",
     "output_type": "stream",
     "text": [
      "\n",
      "\n",
      "\u001b[1m> Entering new LLMChain chain...\u001b[0m\n",
      "Prompt after formatting:\n",
      "\u001b[32;1m\u001b[1;3mSystem: You are a helpful assistant that writes a Python function to complete any task specified by me.\n",
      "The function should always be able to run as-is, without any modifications for the user.\n",
      "The environment where the function will be run is a REPL on my local machine, and it has access to the Internet and the Python standard library. To install any external libraries, you must specify them in your response.\n",
      "The function that you write will be re-used in the future for building more complex functions. Therefore, you should make it generic and re-usable.\n",
      "You should also provide the necessary code to execute the task, and use the generic function with the desired inputs.\n",
      "\n",
      "At each round of conversation, I will provide you with \n",
      "Task: the task that you must complete by writing a Python function.\n",
      "\n",
      "The only output that I can see is what the function prints out. I cannot see any other output, or what the function returns.\n",
      "\n",
      "When given a task, you respond as described in your format instructions\n",
      "\n",
      "The output should be formatted as a JSON instance that conforms to the JSON schema below.\n",
      "\n",
      "As an example, for the schema {\"properties\": {\"foo\": {\"title\": \"Foo\", \"description\": \"a list of strings\", \"type\": \"array\", \"items\": {\"type\": \"string\"}}}, \"required\": [\"foo\"]}}\n",
      "the object {\"foo\": [\"bar\", \"baz\"]} is a well-formatted instance of the schema. The object {\"properties\": {\"foo\": [\"bar\", \"baz\"]}} is not well-formatted.\n",
      "\n",
      "Here is the output schema:\n",
      "```\n",
      "{\"properties\": {\"explain\": {\"title\": \"Explain\", \"description\": \"What is the user asking you to do? What outputs are the user expecting? What inputs are the user specifying, and how can we infer potential general function parameters from them? Are there any ambiguities in the task? What are they? How can they be accounted for?\", \"type\": \"string\"}, \"plan\": {\"title\": \"Plan\", \"description\": \"How to complete the task step by step.\", \"type\": \"array\", \"items\": {\"type\": \"string\"}}, \"libraries\": {\"title\": \"Libraries\", \"description\": \"What non-standard libraries, if any, need to be installed to complete the task?\", \"type\": \"array\", \"items\": {\"type\": \"string\"}}, \"code\": {\"title\": \"Code\", \"description\": \"The Python code to complete the task. Should consist of any helper functions or variables, the new generic function, and the function call to run it.\", \"type\": \"string\"}, \"notes\": {\"title\": \"Notes\", \"description\": \"Can this code run without any edits from the user? If not, why? Also, any additional notes regarding the code or it's execution, not including the external libraries mentioned previously.\", \"type\": \"string\"}}, \"required\": [\"explain\", \"plan\", \"libraries\", \"code\", \"notes\"]}\n",
      "```\n",
      "\n",
      "Human: Task: List the contents of the user's Desktop\u001b[0m\n",
      "{\n",
      "  \"explain\": \"The user is asking to list the contents of their Desktop. The output should be a list of file and folder names present on the user's Desktop. There are no specific inputs, but we can infer that the function should take the path to the Desktop as an optional parameter, defaulting to the user's Desktop.\",\n",
      "  \"plan\": [\n",
      "    \"1. Import os and os.path libraries.\",\n",
      "    \"2. Define a function called list_desktop_contents with an optional parameter 'desktop_path'.\",\n",
      "    \"3. If 'desktop_path' is not provided, use os.path.expanduser to get the user's home directory and append 'Desktop' to it.\",\n",
      "    \"4. Use os.listdir to get the contents of the Desktop directory.\",\n",
      "    \"5. Print the contents of the Desktop directory.\"\n",
      "  ],\n",
      "  \"libraries\": [],\n",
      "  \"code\": \"import os\\nimport os.path\\n\\ndef list_desktop_contents(desktop_path=None):\\n    if desktop_path is None:\\n        desktop_path = os.path.join(os.path.expanduser('~'), 'Desktop')\\n    contents = os.listdir(desktop_path)\\n    print(contents)\\n\\nlist_desktop_contents()\",\n",
      "  \"notes\": \"This code can run without any edits from the user, assuming they have a 'Desktop' folder in their home directory. If the user has a different folder structure, they can provide the path to their Desktop as an argument to the function.\"\n",
      "}\n",
      "\u001b[1m> Finished chain.\u001b[0m\n",
      "['ASIO4ALL v2 Instruction Manual.lnk', 'Atomicrops.lnk', 'business info.txt', 'ChatALL.lnk', 'Chrome Remote Desktop.lnk', 'CODE VEIN.lnk', 'Control.url', 'Cursor.lnk', 'Dead By Daylight.lnk', 'Descenders.lnk', 'desktop.ini', 'Destroy All Humans!.lnk', 'Discord.lnk', 'Docker Desktop.lnk', 'Donut County.lnk', 'DS4Windows - Shortcut.lnk', 'FTB App.lnk', 'Gif Your Game.lnk', 'HITMAN.url', 'Hollow Knight.lnk', 'Hypnospace Outlaw.lnk', 'Kindle.lnk', 'Maneater.lnk', 'Monster Train.lnk', 'MTGA Assistant.lnk', 'Neon Abyss.lnk', 'New Text Document (2).txt', 'New Text Document (3).txt', 'New Text Document.txt', 'NGUSave-Build-1003-January-22-19-57.txt', 'NGUSave-Build-1100-January-25-13-26.txt', 'NGUSave-Build-1100-January-25-16-26.txt', 'NGUSave-Build-1100-January-26-12-57.txt', 'NGUSave-Build-1100-January-26-15-25.txt', 'NGUSave-Build-1100-January-27-18-37.txt', 'NGUSave-Build-1100-January-28-14-01.txt', 'NGUSave-Build-1100-January-29-18-18.txt', 'NGUSave-Build-1101-February-03-19-47.txt', 'NGUSave-Build-1101-February-04-17-26.txt', 'NGUSave-Build-1101-February-05-20-13.txt', 'NGUSave-Build-1101-February-07-14-00.txt', 'NGUSave-Build-1101-February-08-22-47.txt', 'NGUSave-Build-1101-February-11-20-35.txt', 'NGUSave-Build-1101-February-13-15-56.txt', 'NGUSave-Build-1101-January-31-18-22.txt', 'OMNO.lnk', 'Opera GX Browser.lnk', 'osu!.lnk', 'PC Building Simulator 2.url', 'Personal - Edge.lnk', 'PHOGS!.lnk', 'podcast.mp3', 'Postman.lnk', 'Prey.lnk', 'r2modman.lnk', 'Recompile.lnk', 'Riot Client.lnk', 'Roblox Player.lnk', 'Roblox Studio.lnk', 'Storybook Brawl.url', 'STUFF', 'The Gardens Between.lnk', 'Thumper.lnk', 'Ubisoft Connect.lnk', 'UNDERTALE.lnk', 'Zoom.lnk']\n",
      "\n"
     ]
    }
   ],
   "source": [
    "ax = ActionExecutor()\n",
    "ax.send(\"List the contents of the user's Desktop\")"
   ]
  }
 ],
 "metadata": {
  "kernelspec": {
   "display_name": ".venv",
   "language": "python",
   "name": "python3"
  },
  "language_info": {
   "codemirror_mode": {
    "name": "ipython",
    "version": 3
   },
   "file_extension": ".py",
   "mimetype": "text/x-python",
   "name": "python",
   "nbconvert_exporter": "python",
   "pygments_lexer": "ipython3",
   "version": "3.11.3"
  },
  "orig_nbformat": 4
 },
 "nbformat": 4,
 "nbformat_minor": 2
}
