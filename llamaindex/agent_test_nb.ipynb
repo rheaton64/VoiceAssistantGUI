{
 "cells": [
  {
   "cell_type": "code",
   "execution_count": 1,
   "metadata": {},
   "outputs": [],
   "source": [
    "# Set up OpenAI agent\n",
    "import openai\n",
    "import os\n",
    "from dotenv import load_dotenv\n",
    "load_dotenv()\n",
    "openai.api_key = os.getenv('OPENAI_API_KEY')\n",
    "from llama_index.agent import OpenAIAgent\n",
    "from llama_index.llms import OpenAI"
   ]
  },
  {
   "cell_type": "code",
   "execution_count": 2,
   "metadata": {},
   "outputs": [],
   "source": [
    "# import and init tool specs\n",
    "from llama_hub.tools.google_search.base import GoogleSearchToolSpec\n",
    "from llama_index.tools.tool_spec.load_and_search.base import LoadAndSearchToolSpec\n",
    "\n",
    "google_spec = GoogleSearchToolSpec(key=os.getenv('SEARCH_ENGINE_KEY'), engine=os.getenv('SEARCH_ENGINE_ID'))\n",
    "\n",
    "# create tool list\n",
    "tools = LoadAndSearchToolSpec.from_defaults(google_spec.to_tool_list()[0]).to_tool_list()\n",
    "#tools = google_spec.to_tool_list()"
   ]
  },
  {
   "cell_type": "code",
   "execution_count": 3,
   "metadata": {},
   "outputs": [],
   "source": [
    "# create agent\n",
    "agent = OpenAIAgent.from_tools(tools, llm=OpenAI(model=\"gpt-4-0613\"), verbose=True)"
   ]
  },
  {
   "cell_type": "code",
   "execution_count": null,
   "metadata": {},
   "outputs": [],
   "source": []
  },
  {
   "cell_type": "code",
   "execution_count": 7,
   "metadata": {},
   "outputs": [
    {
     "name": "stdout",
     "output_type": "stream",
     "text": [
      "=== Calling Function ===\n",
      "Calling function: google_search with args: {\n",
      "  \"query\": \"New York L-train maintenance schedule July 15, 2023\"\n",
      "}\n",
      "Got output: Content loaded! You can now search the information using read_google_search\n",
      "========================\n",
      "=== Calling Function ===\n",
      "Calling function: read_google_search with args: {\n",
      "  \"query\": \"L-train maintenance on July 15, 2023\"\n",
      "}\n",
      "Got output: \n",
      "The L-train maintenance schedule for July 15, 2023 is not available.\n",
      "========================\n",
      "I'm sorry, but the L-train maintenance schedule for July 15, 2023 is not currently available. It's best to check closer to the date for the most accurate information."
     ]
    }
   ],
   "source": [
    "res = agent.stream_chat(\"I thought it was suppoosed to be down for maintenance?\")\n",
    "\n",
    "res_gen = res.response_gen\n",
    "\n",
    "for token in res_gen:\n",
    "    print(token, end=\"\")"
   ]
  },
  {
   "cell_type": "code",
   "execution_count": null,
   "metadata": {},
   "outputs": [],
   "source": []
  }
 ],
 "metadata": {
  "kernelspec": {
   "display_name": ".venv",
   "language": "python",
   "name": "python3"
  },
  "language_info": {
   "codemirror_mode": {
    "name": "ipython",
    "version": 3
   },
   "file_extension": ".py",
   "mimetype": "text/x-python",
   "name": "python",
   "nbconvert_exporter": "python",
   "pygments_lexer": "ipython3",
   "version": "3.11.3"
  },
  "orig_nbformat": 4
 },
 "nbformat": 4,
 "nbformat_minor": 2
}
